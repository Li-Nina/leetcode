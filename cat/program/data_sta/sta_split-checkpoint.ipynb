{
 "cells": [
  {
   "cell_type": "code",
   "execution_count": 1,
   "metadata": {},
   "outputs": [],
   "source": [
    "# coding=utf-8\n",
    "import xlrd \n",
    "import xlwt\n",
    "import re"
   ]
  },
  {
   "cell_type": "code",
   "execution_count": 5,
   "metadata": {},
   "outputs": [],
   "source": [
    "xls_file = xlrd.open_workbook(\"test_20.xlsx\")\n",
    "table = xls_file.sheets()[0]"
   ]
  },
  {
   "cell_type": "code",
   "execution_count": 6,
   "metadata": {},
   "outputs": [],
   "source": [
    "nrows = table.nrows"
   ]
  },
  {
   "cell_type": "code",
   "execution_count": 7,
   "metadata": {},
   "outputs": [
    {
     "name": "stdout",
     "output_type": "stream",
     "text": [
      "19\n",
      "[text:'序号', text:'单据类型', text:'表单编号', text:'创建人', text:'创建时间', text:'创建部门', text:'事由', text:'出差人', text:'出发日期', text:'返回日期', text:'天数', text:'出差地点', text:'出差省', text:'出差市', text:'课题名称', text:'课题编号', text:'课题调度', text:'课题部门', text:'申请金额']\n",
      "[number:264.0, text:'差旅报销单', text:'201806001704', text:'钟生海', xldate:43272.5743095255, text:'网络与信息安全总体部', text:'去昆明见云南省机要局，去海口见海南省机要局跟进电子公文二期项目', text:'钟生海', xldate:43229.0, xldate:43234.0, number:6.0, text:'昆明，海口', text:'云南省、海南省', text:'昆明市、海口市', text:'电子政务试点项目国产化产品应用及推广管理', text:'MXSS078167C', text:'董旭', text:'网络与信息安全总体部', number:5726.0]\n"
     ]
    }
   ],
   "source": [
    "print(nrows)\n",
    "print(table.row(0))\n",
    "print(table.row(1))"
   ]
  },
  {
   "cell_type": "code",
   "execution_count": 9,
   "metadata": {},
   "outputs": [
    {
     "name": "stdout",
     "output_type": "stream",
     "text": [
      "3.00,2863.00\n",
      "3.00,2863.00\n",
      "2.00,2494.50\n",
      "2.00,2494.50\n",
      "13.00,10726.00\n",
      "17.00,14093.00\n",
      "5.00,8776.00\n",
      "7.00,13150.00\n",
      "3.00,7940.01\n",
      "3.00,7940.01\n",
      "4.00,8340.00\n",
      "4.00,8340.00\n",
      "4.00,23610.00\n",
      "3.00,4930.00\n",
      "3.00,4930.00\n",
      "23.00,15108.00\n",
      "2.00,13010.00\n",
      "1.50,1859.88\n",
      "1.50,1859.88\n",
      "1.50,1859.88\n",
      "1.50,1859.88\n",
      "1.50,2737.00\n",
      "1.50,2737.00\n",
      "1.50,1936.00\n",
      "1.50,1936.00\n",
      "1.50,1936.00\n",
      "1.50,1936.00\n",
      "12.00,5591.00\n",
      "2.00,2654.83\n",
      "2.00,2654.83\n",
      "2.00,2654.83\n",
      "2.00,2654.83\n",
      "2.00,2654.83\n",
      "2.00,2654.83\n",
      "6.00,0.00\n",
      "6.00,0.00\n"
     ]
    }
   ],
   "source": [
    "new_row = 0\n",
    "workbook = xlwt.Workbook(encoding='utf8')\n",
    "worksheet = workbook.add_sheet(u'sheet1')\n",
    "data = table.row(0)\n",
    "col_num = len(data)\n",
    "for i in range(col_num):\n",
    "    worksheet.write(new_row,i,data[i].value) #单元格所在的row,column,和value.\n",
    "new_row+=1\n",
    "for rowx in  range(1,nrows):\n",
    "    data = table.row(rowx)\n",
    "    people = data[7].value\n",
    "    day = data[10].value\n",
    "    pro = data[12].value\n",
    "    city = data[13].value\n",
    "    money = data[18].value\n",
    "    people_names = re.split(r'[\\s\\,\\、]+',people)\n",
    "    pros = re.split(r'[\\s\\,\\、]+',pro)\n",
    "    citys = re.split(r'[\\s\\,\\、]+',city)\n",
    "    people_num = len(people_names)\n",
    "    city_num = len(citys)\n",
    "    if(people_num == 1 and city_num == 1):\n",
    "        for i in range(col_num):\n",
    "            worksheet.write(new_row,i,data[i].value) #单元格所在的row,column,和value.\n",
    "        new_row +=1\n",
    "    new_day = float(day)/city_num\n",
    "    new_money = float(money)/(people_num * city_num)\n",
    "    data[10] = new_day\n",
    "    data[18] = new_money\n",
    "    for name in people_names:\n",
    "        data[7].value = name\n",
    "        for (c,p) in zip(citys,pros):\n",
    "            data[12] = p\n",
    "            data[13] = c\n",
    "            for i in range(col_num):\n",
    "                worksheet.write(new_row,i,data[i].value) #单元格所在的row,column,和value.\n",
    "            new_row +=1\n",
    "workbook.save('test.xls')"
   ]
  },
  {
   "cell_type": "code",
   "execution_count": null,
   "metadata": {},
   "outputs": [],
   "source": [
    ""
   ]
  }
 ],
 "metadata": {
  "kernelspec": {
   "display_name": "Python 3",
   "language": "python",
   "name": "python3"
  },
  "language_info": {
   "codemirror_mode": {
    "name": "ipython",
    "version": 3.0
   },
   "file_extension": ".py",
   "mimetype": "text/x-python",
   "name": "python",
   "nbconvert_exporter": "python",
   "pygments_lexer": "ipython3",
   "version": "3.7.1"
  }
 },
 "nbformat": 4,
 "nbformat_minor": 0
}