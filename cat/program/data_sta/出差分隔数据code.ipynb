{
 "cells": [
  {
   "cell_type": "code",
   "execution_count": null,
   "metadata": {},
   "outputs": [],
   "source": [
    "# coding=utf-8\n",
    "import xlrd \n",
    "import xlwt\n",
    "import re"
   ]
  },
  {
   "cell_type": "code",
   "execution_count": 50,
   "metadata": {},
   "outputs": [],
   "source": [
    "xls_file = xlrd.open_workbook(\"source_data.xlsx\")\n",
    "table = xls_file.sheets()[0]\n",
    "people_file =xlrd.open_workbook(\"组名.xlsx\")\n",
    "people_table = people_file.sheets()[0]"
   ]
  },
  {
   "cell_type": "code",
   "execution_count": 51,
   "metadata": {},
   "outputs": [],
   "source": [
    "nrows = table.nrows\n",
    "people_dict={}\n",
    "p_nrows = people_table.nrows\n",
    "for rowx in range(1,p_nrows):\n",
    "    data = people_table.row(rowx)\n",
    "    people_dict[data[0].value] = data[1].value"
   ]
  },
  {
   "cell_type": "code",
   "execution_count": 52,
   "metadata": {},
   "outputs": [
    {
     "name": "stdout",
     "output_type": "stream",
     "text": [
      "442\n",
      "[text:'序号', text:'单据类型', text:'表单编号', text:'创建人', text:'创建时间', text:'创建部门', text:'事由', text:'出差人', text:'出发日期', text:'返回日期', text:'天数', text:'出差地点', text:'出差省', text:'出差市', text:'课题名称', text:'课题编号', text:'课题调度', text:'课题部门', text:'申请金额']\n",
      "[number:170.0, text:'差旅报销单', text:'201810000383', text:'曹启旭', xldate:43383.634077662, text:'网络与信息安全总体部', text:'(1)战支二十七基地搭建OA环境并恢复系统；  (2)向部队首长演示讲解OA系统应用及硬件配置；  (3)培训部队同事使用应用系统', text:'曹启旭', xldate:43311.0, xldate:43316.0, number:6.0, text:'四川省西昌市战支二十七基地', text:'四川省、四川省', text:'西昌市', text:'电子政务试点项目国产化产品应用及推广管理', text:'MXSS078167C', text:'董旭', text:'网络与信息安全总体部', number:6735.0]\n",
      "{'曹启旭': '软件组', '褚新人': '软件组', '冯亮': '软件组', '高跃': '软件组', '郭鹏': '软件组', '贾文洲': '软件组', '陆宇洲': '软件组', '吴伟冰': '软件组', '杨闯': '软件组', '姚金鹏': '软件组', '张梦清': '软件组', '李宏亮': '软件组', '李剑': '软件组', '李学成': '软件组', '马超': '软件组', '马晓维': '市场商务', '毛亚东': '软件组', '宁盼': '软件组', '石正': '软件组', '王晓双': '软件组', '辛彩强': '软件组', '杨新亮': '软件组', '张虎': '软件组', '李亚卓': '软件组', '王斌': '软件组', '姜杉': '软件组', '姜全超': '软件组', '刘洋': '软件组', '张艳丽': '软件组', '李鹏': '软件组', '孔凯薇': '软件组', '杨睿博': '软件组', '张旭': '硬件组', '刁立涛': '硬件组', '胡鑫': '硬件组', '姜博文': '硬件组', '罗俊': '硬件组', '唐广昱': '硬件组', '李晖': '硬件组', '李兴鑫': '硬件组', '王瑞': '硬件组', '文留学': '硬件组', '闫呈峰': '硬件组', '董一伯': '硬件组', '周晓晨': '硬件组', '李英然': '硬件组', '刘学全': '硬件组', '刘永浩': '硬件组', '马帅': '硬件组', '马文聪': '硬件组', '万勇佳': '硬件组', '王海鹏': '硬件组', '张建新': '硬件组', '赵世杰': '硬件组', '马章波': '硬件组', '邱桂萍': '硬件组', '闫呈锋': '硬件组', '马小刚': '硬件组', '侯艳伟': '硬件组', '马天明': '硬件组', '王永鹏': '硬件组', '解红梅': '硬件组', '邹罗': '硬件组', '焦鹏': '售前组', '帅鹏城': '售前组', '田万鹏': '售前组', '翁启波': '售前组', '王爱龙': '售前组', '杨杰': '售前组', '邹琴': '售前组', '苏冬南': '售前组', '曹舒禹': '售前组', '胡志强': '售前组', '王建辉': '市场商务', '邓雪': '市场商务', '霍晓昕': '市场商务组', '王晓萍': '市场商务组', '孟祥龙': '市场商务', '徐晓强': '市场商务组', '吴江': '综合管理', '齐韦杰': '大数据云计算组', '亢沛沛': '大数据云计算组', '王浩阳': '大数据云计算组', '席昌盛': '大数据云计算组', '张俊': '大数据云计算组', '张英龙': '大数据云计算组', '赵金龙': '大数据云计算组', '赵宇晨': '大数据云计算组', '丁晓东': '大数据云计算组', '戴志明': '大数据云计算组', '孙渊博': '大数据云计算组', '李墈婧': '大数据云计算组', '刘硕': '大数据云计算组', '韦明涛': '大数据云计算组', '李峰松': '大数据云计算组', '赵雨晨': '大数据云计算组', '黄福山': '大数据云计算组', '江山': '大数据云计算组', '李伟': '销售组', '刘向东': '销售组', '刘萧': '销售组', '武文斌': '销售组', '喻涛': '销售组', '高国': '销售组', '范愷程': '售前组', '任旭东': '销售组', '姜超': '销售组', '顾鹏': '顾鹏', '杨芳': '杨芳', '王泊涵': '王泊涵', '赵明辉': '赵明辉', '钟生海': '钟生海', '申世光': '申世光', '申屠燕冬': '申屠燕冬', '袁晓光': '钟生海', '王宁': '顾鹏', '李锋松': '大数据云计算组', '许健': '大数据云计算组', '杨飞': '大数据云计算组', '李鹏1': '软件组', '杨鑫亮': '软件组', '帅铁城': '售前组', '宋洋': '硬件组', '张志华': '硬件组', '郭骞': '硬件组'}\n"
     ]
    }
   ],
   "source": [
    "print(nrows)\n",
    "print(table.row(0))\n",
    "print(table.row(1))\n",
    "print(people_dict)"
   ]
  },
  {
   "cell_type": "code",
   "execution_count": 53,
   "metadata": {},
   "outputs": [],
   "source": [
    "new_row = 0\n",
    "workbook = xlwt.Workbook(encoding='utf8')\n",
    "worksheet = workbook.add_sheet(u'sheet1')\n",
    "data = table.row(0)\n",
    "col_num = len(data)\n",
    "for i in range(col_num):\n",
    "    worksheet.write(new_row,i,data[i].value) #单元格所在的row,column,和value.\n",
    "worksheet.write(new_row,col_num,\"组名\")\n",
    "new_row+=1\n",
    "name_dict={}\n",
    "\n",
    "for rowx in  range(1,nrows):\n",
    "    data = table.row(rowx)\n",
    "    people = data[7].value\n",
    "    day = data[10].value\n",
    "    pro = data[12].value\n",
    "    city = data[13].value\n",
    "    money = data[18].value\n",
    "    people_names = re.split(r'[\\s\\,\\、]+',people)\n",
    "    pros = re.split(r'[\\s\\,\\、]+',pro)\n",
    "    citys = re.split(r'[\\s\\,\\、]+',city)\n",
    "    people_num = len(people_names)\n",
    "    city_num = len(citys)\n",
    "    if(people_num == 1 and city_num == 1):\n",
    "        team_name = people_dict[people]\n",
    "        for i in range(col_num):\n",
    "            worksheet.write(new_row,i,data[i].value) #单元格所在的row,column,和value.\n",
    "        worksheet.write(new_row,col_num,team_name)\n",
    "        new_row +=1\n",
    "        continue\n",
    "    new_day = float(day)/city_num\n",
    "    new_money = float(money)/(people_num * city_num)\n",
    "    data[10].value = new_day\n",
    "    data[18].value = new_money\n",
    "    for name in people_names:\n",
    "        data[7].value = name\n",
    "        team_name = people_dict[name]\n",
    "        for (c,p) in zip(citys,pros):\n",
    "            data[12].value = p\n",
    "            data[13].value = c\n",
    "            for i in range(col_num):\n",
    "                worksheet.write(new_row,i,data[i].value) #单元格所在的row,column,和value.\n",
    "            worksheet.write(new_row,col_num,team_name)\n",
    "            new_row +=1\n",
    "workbook.save('source_data_out.xls')"
   ]
  },
  {
   "cell_type": "code",
   "execution_count": null,
   "metadata": {},
   "outputs": [],
   "source": [
    ""
   ]
  },
  {
   "cell_type": "code",
   "execution_count": null,
   "metadata": {},
   "outputs": [],
   "source": [
    ""
   ]
  }
 ],
 "metadata": {
  "kernelspec": {
   "display_name": "Python 3",
   "language": "python",
   "name": "python3"
  },
  "language_info": {
   "codemirror_mode": {
    "name": "ipython",
    "version": 3.0
   },
   "file_extension": ".py",
   "mimetype": "text/x-python",
   "name": "python",
   "nbconvert_exporter": "python",
   "pygments_lexer": "ipython3",
   "version": "3.7.1"
  }
 },
 "nbformat": 4,
 "nbformat_minor": 0
}